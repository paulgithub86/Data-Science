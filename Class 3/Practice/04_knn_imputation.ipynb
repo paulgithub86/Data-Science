{
 "cells": [
  {
   "cell_type": "markdown",
   "id": "92594750",
   "metadata": {},
   "source": [
    "\n",
    "# 04 — kNN Imputation (6 min)\n",
    "\n",
    "Use scikit-learn's `KNNImputer` on the MAR setting. Tune `n_neighbors` and distance metric, evaluate imputation MAE.\n"
   ]
  },
  {
   "cell_type": "code",
   "execution_count": null,
   "id": "867e8760",
   "metadata": {},
   "outputs": [],
   "source": [
    "\n",
    "import numpy as np, pandas as pd\n",
    "from sklearn.impute import KNNImputer\n",
    "from sklearn.metrics import mean_absolute_error\n",
    "\n",
    "np.random.seed(1)\n",
    "\n",
    "df = pd.DataFrame({\n",
    "    \"ID\": range(1,11),\n",
    "    \"Age\":  [22,25,29,35,40,45,50,54,60,65],\n",
    "    \"Educ\": [12,12,14,16,16,18,16,14,12,12],\n",
    "    \"Income\":[25,28,32,40,48,55,62,60,50,45]\n",
    "})\n",
    "\n",
    "# Keep ground truth for MAE\n",
    "truth = df.copy()\n",
    "\n",
    "# Induce MAR missingness\n",
    "missing_ids = [1,2,3,8]\n",
    "df.loc[df[\"ID\"].isin(missing_ids), \"Income\"] = np.nan\n",
    "\n",
    "# Use only Age, Educ, Income in the matrix\n",
    "X = df[[\"Age\",\"Educ\",\"Income\"]].values\n",
    "imputer = KNNImputer(n_neighbors=3, weights=\"distance\")\n",
    "X_imp = imputer.fit_transform(X)\n",
    "df_imp = pd.DataFrame(X_imp, columns=[\"Age\",\"Educ\",\"Income_imp\"])\n",
    "\n",
    "# Evaluate on missing positions\n",
    "mask = df[\"Income\"].isna().values\n",
    "mae = mean_absolute_error(truth.loc[mask, \"Income\"], df_imp.loc[mask, \"Income_imp\"])\n",
    "print(f\"MAE on imputed Income (k=3): {mae:.2f}\")\n",
    "print(df_imp.round(2))\n",
    "\n",
    "# ---- Classwork ----\n",
    "# A) Try k = 1, 3, 5, 7. Report MAE for each and pick the best.\n",
    "# B) Normalize features (Age, Educ) to comparable scales before kNN; does MAE improve?\n",
    "# C) Add a synthetic feature (Age^2). Does it help or hurt kNN imputation?\n"
   ]
  }
 ],
 "metadata": {},
 "nbformat": 4,
 "nbformat_minor": 5
}
