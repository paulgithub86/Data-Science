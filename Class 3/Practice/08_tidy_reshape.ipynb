{
 "cells": [
  {
   "cell_type": "markdown",
   "id": "a72e077c",
   "metadata": {},
   "source": [
    "\n",
    "# 08 — Tidy Data: Melt & Pivot \n",
    "\n",
    "Transform a wide student-score table into a tidy long format and back. Handle missing values deliberately.\n"
   ]
  },
  {
   "cell_type": "code",
   "execution_count": null,
   "id": "7b5d9d97",
   "metadata": {},
   "outputs": [],
   "source": [
    "\n",
    "import pandas as pd\n",
    "import numpy as np\n",
    "\n",
    "wide = pd.DataFrame({\n",
    "    \"id\": [\"s1\",\"s2\",\"s3\"],\n",
    "    \"math\": [80, 90, None],\n",
    "    \"phys\": [70, 88, 75],\n",
    "    \"chem\": [85, 82, 78],\n",
    "})\n",
    "print(\"Wide format:\\n\", wide, \"\\n\")\n",
    "\n",
    "# Melt to long\n",
    "long = wide.melt(id_vars=[\"id\"], var_name=\"subject\", value_name=\"score\")\n",
    "print(\"Long format:\\n\", long, \"\\n\")\n",
    "\n",
    "# Drop missing scores (explicit choice)\n",
    "long_clean = long.dropna(subset=[\"score\"]).reset_index(drop=True)\n",
    "print(\"Long (dropna):\\n\", long_clean, \"\\n\")\n",
    "\n",
    "# Pivot back to wide\n",
    "wide_back = long_clean.pivot(index=\"id\", columns=\"subject\", values=\"score\").reset_index()\n",
    "print(\"Back to wide:\\n\", wide_back, \"\\n\")\n",
    "\n",
    "# ---- Classwork ----\n",
    "# A) Instead of dropna, impute missing scores by subject median before pivoting back.\n",
    "# B) Add a 'term' column and create a multi-index (id, term) long table, then pivot to a subject x term matrix.\n",
    "# C) Verify that each variable is a column, each observation a row, each value a cell.\n"
   ]
  }
 ],
 "metadata": {},
 "nbformat": 4,
 "nbformat_minor": 5
}
