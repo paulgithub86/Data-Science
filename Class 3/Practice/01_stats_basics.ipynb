{
 "cells": [
  {
   "cell_type": "markdown",
   "id": "07d07dd4",
   "metadata": {},
   "source": [
    "\n",
    "# 01 — Stats Basics: Mean, Variance, Standard Deviation (5–6 min)\n",
    "\n",
    "Learn to compute mean, (sample) variance, and standard deviation *from scratch* and with NumPy.\n",
    "\n",
    "**Dataset**: `x = [10, 22, 30, 17, 18, 20, 30, 42, 32]`  \n",
    "Target (from slides): mean ≈ **24.56**, variance ≈ **94.78**, sd ≈ **9.74**.\n"
   ]
  },
  {
   "cell_type": "code",
   "execution_count": null,
   "id": "b3f712fd",
   "metadata": {},
   "outputs": [],
   "source": [
    "\n",
    "# Colab-ready: no special installs required\n",
    "from math import sqrt\n",
    "\n",
    "x = [10, 22, 30, 17, 18, 20, 30, 42, 32]\n",
    "\n",
    "def mean(xs):\n",
    "    return sum(xs)/len(xs)\n",
    "\n",
    "def sample_variance(xs):\n",
    "    m = mean(xs)\n",
    "    return sum((xi-m)**2 for xi in xs)/(len(xs)-1)\n",
    "\n",
    "def sample_sd(xs):\n",
    "    from math import sqrt\n",
    "    return sqrt(sample_variance(xs))\n",
    "\n",
    "m = mean(x)\n",
    "var = sample_variance(x)\n",
    "sd = sample_sd(x)\n",
    "\n",
    "print(f\"Mean: {m:.2f}\")\n",
    "print(f\"Sample variance: {var:.2f}\")\n",
    "print(f\"Sample SD: {sd:.2f}\")\n",
    "\n",
    "# Cross-check with numpy\n",
    "import numpy as np\n",
    "np_mean = float(np.mean(x))\n",
    "np_var = float(np.var(x, ddof=1))\n",
    "np_sd = float(np.sqrt(np_var))\n",
    "print(\"\\n[NumPy check]\")\n",
    "print(f\"Mean: {np_mean:.2f}, Var: {np_var:.2f}, SD: {np_sd:.2f}\")\n",
    "\n",
    "# ---- Classwork ----\n",
    "# 1) Replace value 42 with 420 (inject an outlier). Recompute mean, var, sd and comment on changes.\n",
    "# 2) Write a function 'mad(xs)' that computes Median Absolute Deviation.\n",
    "# 3) Compare SD vs MAD robustness by adding/removing the outlier.\n"
   ]
  }
 ],
 "metadata": {},
 "nbformat": 4,
 "nbformat_minor": 5
}
