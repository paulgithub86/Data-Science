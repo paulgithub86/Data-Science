{
 "cells": [
  {
   "cell_type": "markdown",
   "id": "6ae7c7b6",
   "metadata": {},
   "source": [
    "\n",
    "# 03 — Simple Imputation: Mean/Median/Mode + Group-wise (6 min)\n",
    "\n",
    "Demonstrate variance shrinkage and bias under MAR. Also add a missingness indicator column.\n"
   ]
  },
  {
   "cell_type": "code",
   "execution_count": null,
   "id": "cb096336",
   "metadata": {},
   "outputs": [],
   "source": [
    "\n",
    "import numpy as np, pandas as pd\n",
    "np.random.seed(0)\n",
    "\n",
    "df = pd.DataFrame({\n",
    "    \"ID\": range(1,11),\n",
    "    \"Age\":  [22,25,29,35,40,45,50,54,60,65],\n",
    "    \"Educ\": [12,12,14,16,16,18,16,14,12,12],\n",
    "    \"Income\":[25,28,32,40,48,55,62,60,50,45]\n",
    "})\n",
    "\n",
    "true_mean = df[\"Income\"].mean()\n",
    "\n",
    "# Induce MAR missingness\n",
    "missing_ids = [1,2,3,8]\n",
    "df_mar = df.copy()\n",
    "df_mar[\"Income_missing\"] = 0\n",
    "df_mar.loc[df_mar[\"ID\"].isin(missing_ids), \"Income\"] = np.nan\n",
    "df_mar.loc[df_mar[\"ID\"].isin(missing_ids), \"Income_missing\"] = 1\n",
    "\n",
    "cc_mean = df_mar[\"Income\"].dropna().mean()\n",
    "print(f\"Complete-case mean (biased): {cc_mean:.1f} vs truth {true_mean:.1f}\")\n",
    "\n",
    "# Mean imputation (global)\n",
    "imp_mean = df_mar.copy()\n",
    "mean_val = imp_mean[\"Income\"].mean()  # complete-case mean by default\n",
    "imp_mean[\"Income\"] = imp_mean[\"Income\"].fillna(mean_val)\n",
    "\n",
    "print(f\"After mean impute: mean={imp_mean['Income'].mean():.1f}, sd={imp_mean['Income'].std(ddof=1):.2f}\")\n",
    "\n",
    "# Group-wise median by Educ\n",
    "imp_grp = df_mar.copy()\n",
    "grp_meds = imp_grp.groupby(\"Educ\")[\"Income\"].transform(\"median\")\n",
    "imp_grp[\"Income\"] = imp_grp[\"Income\"].fillna(grp_meds)\n",
    "print(f\"Group-wise median impute: mean={imp_grp['Income'].mean():.1f}, sd={imp_grp['Income'].std(ddof=1):.2f}\")\n",
    "\n",
    "# ---- Classwork ----\n",
    "# 1) Add 'Income_missing' as a feature and fit a simple linear regression predicting Income (after imputation).\n",
    "# 2) Compare global mean vs group-wise median vs \"carry truth\" (for IDs with known truth) to quantify bias and variance changes.\n",
    "# 3) Explain why adding the missingness indicator may help under MAR.\n"
   ]
  }
 ],
 "metadata": {},
 "nbformat": 4,
 "nbformat_minor": 5
}
