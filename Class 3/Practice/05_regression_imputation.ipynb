{
 "cells": [
  {
   "cell_type": "markdown",
   "id": "63fde94f",
   "metadata": {},
   "source": [
    "\n",
    "# 05 — Regression Imputation + Stochastic Residuals \n",
    "\n",
    "Fit Income ~ Age + Educ on complete rows. Impute missing with prediction + random residual draw to preserve variance.\n"
   ]
  },
  {
   "cell_type": "code",
   "execution_count": null,
   "id": "1ba13797",
   "metadata": {},
   "outputs": [],
   "source": [
    "\n",
    "import numpy as np, pandas as pd\n",
    "from sklearn.linear_model import LinearRegression\n",
    "\n",
    "np.random.seed(13)\n",
    "\n",
    "df = pd.DataFrame({\n",
    "    \"ID\": range(1,11),\n",
    "    \"Age\":  [22,25,29,35,40,45,50,54,60,65],\n",
    "    \"Educ\": [12,12,14,16,16,18,16,14,12,12],\n",
    "    \"Income\":[25,28,32,40,48,55,62,60,50,45]\n",
    "})\n",
    "\n",
    "truth = df.copy()\n",
    "missing_ids = [1,2,3,8]\n",
    "df.loc[df[\"ID\"].isin(missing_ids), \"Income\"] = np.nan\n",
    "\n",
    "train = df.dropna(subset=[\"Income\"])\n",
    "Xtr = train[[\"Age\",\"Educ\"]].values\n",
    "ytr = train[\"Income\"].values\n",
    "\n",
    "lr = LinearRegression().fit(Xtr, ytr)\n",
    "pred = lr.predict(df[[\"Age\",\"Educ\"]].values)\n",
    "\n",
    "resid = ytr - lr.predict(Xtr)\n",
    "sigma = np.std(resid, ddof=1)\n",
    "\n",
    "imputed = df[\"Income\"].copy()\n",
    "for i, isna in enumerate(df[\"Income\"].isna().values):\n",
    "    if isna:\n",
    "        imputed.iat[i] = pred[i] + np.random.normal(0, sigma)\n",
    "\n",
    "df[\"Income_imp\"] = imputed\n",
    "\n",
    "print(\"Coeffs:\", lr.intercept_, lr.coef_)\n",
    "print(df[[\"ID\",\"Age\",\"Educ\",\"Income\",\"Income_imp\"]].round(2))\n",
    "\n",
    "# ---- Classwork ----\n",
    "# 1) Repeat imputation 50 times (different seeds) and compute pooled mean and variance of Income (Rubin-style intuition).\n",
    "# 2) Compare single deterministic regression vs stochastic regression imputation on SD preservation.\n"
   ]
  }
 ],
 "metadata": {},
 "nbformat": 4,
 "nbformat_minor": 5
}
