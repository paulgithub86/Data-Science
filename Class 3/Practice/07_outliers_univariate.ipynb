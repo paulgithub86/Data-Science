{
 "cells": [
  {
   "cell_type": "markdown",
   "id": "cf3c7772",
   "metadata": {},
   "source": [
    "\n",
    "# 07 — Outliers: Z-score, Robust Z (MAD), IQR Rule \n",
    "\n",
    "Work with two datasets (A: no outlier; B: plus 500). Compare SD vs MAD and IQR fences, and visualize.\n"
   ]
  },
  {
   "cell_type": "code",
   "execution_count": null,
   "id": "d9b72735",
   "metadata": {},
   "outputs": [],
   "source": [
    "\n",
    "import numpy as np, pandas as pd\n",
    "import matplotlib.pyplot as plt\n",
    "\n",
    "A = np.array([25,30,35,40,45,50,55,60,65])\n",
    "B = np.array([25,30,35,40,45,50,55,60,65,500])\n",
    "\n",
    "def mad(arr):\n",
    "    med = np.median(arr)\n",
    "    return np.median(np.abs(arr - med))\n",
    "\n",
    "def robust_z(x):\n",
    "    med = np.median(x)\n",
    "    m = mad(x)\n",
    "    if m == 0:\n",
    "        return np.zeros_like(x, dtype=float)\n",
    "    return 0.6745*(x - med)/m\n",
    "\n",
    "def iqr_flags(x):\n",
    "    q1, q3 = np.percentile(x, [25, 75])\n",
    "    iqr = q3 - q1\n",
    "    lo, hi = q1 - 1.5*iqr, q3 + 1.5*iqr\n",
    "    flags = (x < lo) | (x > hi)\n",
    "    return flags, (lo, hi)\n",
    "\n",
    "for name, x in [(\"A\", A), (\"B\", B)]:\n",
    "    rz = robust_z(x)\n",
    "    flags, (lo, hi) = iqr_flags(x)\n",
    "    print(f\"{name}: mean={np.mean(x):.2f}, sd={np.std(x, ddof=1):.2f}, MAD={mad(x):.2f}\")\n",
    "    print(f\"  robust-Z>3 count: {(np.abs(rz)>3).sum()}, IQR flags: {flags.sum()}, fences={lo:.2f},{hi:.2f}\")\n",
    "\n",
    "# Simple plot (no seaborn, single axes, no color set)\n",
    "plt.figure()\n",
    "plt.boxplot([A,B], labels=[\"A\",\"B\"])\n",
    "plt.title(\"Boxplots (IQR) — Dataset A vs B\")\n",
    "plt.xlabel(\"Dataset\")\n",
    "plt.ylabel(\"Value\")\n",
    "plt.show()\n",
    "\n",
    "# ---- Classwork ----\n",
    "# 1) Winsorize dataset B at the IQR fences (clip values) and recompute mean and SD.\n",
    "# 2) Compare robust-Z>3 vs IQR rule for detecting the 500 outlier. Which is more stable here?\n"
   ]
  }
 ],
 "metadata": {},
 "nbformat": 4,
 "nbformat_minor": 5
}
